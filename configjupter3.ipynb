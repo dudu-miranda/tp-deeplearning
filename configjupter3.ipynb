{
 "cells": [
  {
   "attachments": {},
   "cell_type": "markdown",
   "metadata": {},
   "source": [
    "1. Discussão:"
   ]
  },
  {
   "attachments": {},
   "cell_type": "markdown",
   "metadata": {},
   "source": [
    "Formalização do Problema: Desde a década de 70, quando a produção de biocombustíveis começou a ser incentivada no Brasil, a demanda por etanol vem crescendo como uma alternativa mais acessível ao consumidor. Assim, o objetivo deste projeto foi utilizar um modelo de Regressão Linear para previsão do preço médio do etanol hidratado."
   ]
  },
  {
   "attachments": {},
   "cell_type": "markdown",
   "metadata": {},
   "source": [
    "Análise Exploratória: Como análise exploratória foi feito um resumo estatistico, a criação de histogramas para o valor das variáveis serem vistos ao longo do tempo e foi calculada a matriz de correlação para entender a dependência linear entre as variáveis.\n",
    "\n",
    "A principal transformação dos dados executada foi o corte da base de dados anteriores a data de 01/01/2017 devido a mudanças de legislação na precificação dos combustíveis e a adaptação da base de dados para que todas as amostragens de preço fossem consideradas semanalmente, já que algumas observações eram diárias e outras semanais, para essa adaptação foi realizado o cálculo de média simples dos valores diários para definir o valor semanal de uma variável.\n",
    "\n",
    "Para aplicação do modelo de Regressão Linear os valores foram normalizados entre os valores de 0-1."
   ]
  },
  {
   "attachments": {},
   "cell_type": "markdown",
   "metadata": {},
   "source": [
    "Algoritmos:\n",
    "\n",
    "    Regressão linear: é um método estatístico que busca estabelecer uma relação linear entre a variável dependente (a variável que você deseja prever) e uma ou mais variáveis independentes (as variáveis que você usa para prever a variável dependente)."
   ]
  },
  {
   "attachments": {},
   "cell_type": "markdown",
   "metadata": {},
   "source": [
    "Escolha dos algoritmos:\n",
    "\n",
    "    Regressão Linear: Pela sua simplicidade e fácil entendimento a Regressão Linear passa a ser uma boa escolha, além disto ela é adequada para prever variáveis continuas (como preço de comodities que estamos lidando) e também pode ser uma boa indicadora de tendências.\n",
    "\n",
    "    "
   ]
  },
  {
   "attachments": {},
   "cell_type": "markdown",
   "metadata": {},
   "source": [
    "2. Trabalhos Correlatos:\n"
   ]
  },
  {
   "attachments": {},
   "cell_type": "markdown",
   "metadata": {},
   "source": [
    "Regressão Linear: No trabalho de Carassai, Aline Ferrarini, et al. \"ANÁLISE MULTIVARIADA APLICADA AO PREÇO DO ETANOL HIDRATADO PRATICADO NO BRASIL.\" foi utilizado um algoritmo de Regressão Linear Multipla para fazer a previsão de preço do Etanol Hidratado. Neste trabalho os autores fizeram uma análise de diversas variáveis preditoras para identificar quais possuiam uma maior correlação com o preço do Etanol Hidratado. Escolherem as variáveis com maior correlação e ao aplicar o método obtiveram resultados próximos ao que seria o resultado real."
   ]
  },
  {
   "attachments": {},
   "cell_type": "markdown",
   "metadata": {},
   "source": [
    "3. Metodologia"
   ]
  },
  {
   "attachments": {},
   "cell_type": "markdown",
   "metadata": {},
   "source": [
    "Como métrica de avaliação foram utilizados medidas estatisticas básicas como: média, mediana, DP, variância, etc. Foi também calculado o erro médio quadrático e os resultados esperados X obtidos foram plotados em um gráfico para que tenhamos uma melhor visualização dos resultados."
   ]
  },
  {
   "attachments": {},
   "cell_type": "markdown",
   "metadata": {},
   "source": [
    "Foram aplicados dois testes:\n",
    "No primeiro teste treinamos o conjunto com a base de treino e testamos a predição com a base de testes.\n",
    "No segundo teste treinamos o conjunto com a base de treino e testamos a predição também com a base de treino."
   ]
  },
  {
   "attachments": {},
   "cell_type": "markdown",
   "metadata": {},
   "source": [
    "4. Aplicação dos Algoritmos:"
   ]
  },
  {
   "cell_type": "code",
   "execution_count": 40,
   "metadata": {},
   "outputs": [
    {
     "name": "stdout",
     "output_type": "stream",
     "text": [
      "Coeficientes: [[ 0.11039376  0.17212458 -0.25720083 -0.12307892  0.99342435 -0.04998895]]\n",
      "Intercept: [0.04784299]\n",
      "R²: -0.18180110814356132\n"
     ]
    }
   ],
   "source": [
    "import pandas as pd\n",
    "import numpy as np\n",
    "from sklearn.preprocessing import MinMaxScaler\n",
    "from sklearn.linear_model import LinearRegression\n",
    "\n",
    "\n",
    "directory = 'dados2/'\n",
    "df1 = pd.read_csv(directory + 'acucar_diario_ny_usd.csv')\n",
    "df2 = pd.read_csv(directory + 'acucar_diario_rp_blr.csv')\n",
    "df3 = pd.read_csv(directory + 'brent_diario_usd.csv')\n",
    "df4 = pd.read_csv(directory + 'dolar_diario_blr.csv')\n",
    "df5 = pd.read_csv(directory + 'etanol_semanal_anp_blr.csv')\n",
    "df6 = pd.read_csv(directory + 'gasolina_semanal_anp_blr.csv')\n",
    "df7 = pd.read_csv(directory + 'rbob_diario_usd.csv')\n",
    "\n",
    "df1 = df1[['data_inicio', 'acucar_usd']]\n",
    "df2 = df2[['data_inicio', 'acucar_blr']]\n",
    "df3 = df3[['data_inicio', 'brent_usd']]\n",
    "df4 = df4[['data_inicio', 'dolar_blr']]\n",
    "df5 = df5[['data_inicio', 'etanol_blr']]\n",
    "df6 = df6[['data_inicio', 'gasolina_blr']]\n",
    "df7 = df7[['data_inicio', 'rbob_usd']]\n",
    "\n",
    "df = pd.merge(df1, df2, on='data_inicio')\n",
    "df = pd.merge(df, df3, on='data_inicio')\n",
    "df = pd.merge(df, df4, on='data_inicio')\n",
    "df = pd.merge(df, df6, on='data_inicio')\n",
    "df = pd.merge(df, df7, on='data_inicio')\n",
    "\n",
    "df = df.drop('data_inicio', axis=1)\n",
    "df5 = df5.drop('data_inicio', axis=1)\n",
    "\n",
    "\n",
    "scalerX = MinMaxScaler()\n",
    "dfX_normalized = pd.DataFrame(scalerX.fit_transform(df), columns=df.columns)\n",
    "\n",
    "scalerY = MinMaxScaler()\n",
    "dfY_normalized = pd.DataFrame(scalerY.fit_transform(df5['etanol_blr'].values.reshape(-1, 1)))\n",
    "\n",
    "model = LinearRegression()\n",
    "model.fit(dfX_normalized, dfY_normalized)\n",
    "\n",
    "\n",
    "directory_teste = 'dados_teste2/'\n",
    "dfTeste1 = pd.read_csv(directory_teste + 'acucar_diario_ny_usd.csv')\n",
    "dfTeste2 = pd.read_csv(directory_teste + 'acucar_diario_rp_blr.csv')\n",
    "dfTeste3 = pd.read_csv(directory_teste + 'brent_diario_usd.csv')\n",
    "dfTeste4 = pd.read_csv(directory_teste + 'dolar_diario_blr.csv')\n",
    "dfTeste5 = pd.read_csv(directory_teste + 'etanol_semanal_anp_blr.csv')\n",
    "dfTeste6 = pd.read_csv(directory_teste + 'gasolina_semanal_anp_blr.csv')\n",
    "dfTeste7 = pd.read_csv(directory_teste + 'rbob_diario_usd.csv')\n",
    "\n",
    "dfTeste1 = dfTeste1[['data_inicio', 'acucar_usd']]\n",
    "dfTeste2 = dfTeste2[['data_inicio', 'acucar_blr']]\n",
    "dfTeste3 = dfTeste3[['data_inicio', 'brent_usd']]\n",
    "dfTeste4 = dfTeste4[['data_inicio', 'dolar_blr']]\n",
    "dfTeste5 = dfTeste5[['data_inicio', 'etanol_blr']]\n",
    "dfTeste6 = dfTeste6[['data_inicio', 'gasolina_blr']]\n",
    "dfTeste7 = dfTeste7[['data_inicio', 'rbob_usd']]\n",
    "\n",
    "dfTeste = pd.merge(dfTeste1, dfTeste2, on='data_inicio')\n",
    "dfTeste = pd.merge(dfTeste, dfTeste3, on='data_inicio')\n",
    "dfTeste = pd.merge(dfTeste, dfTeste4, on='data_inicio')\n",
    "dfTeste = pd.merge(dfTeste, dfTeste6, on='data_inicio')\n",
    "dfTeste = pd.merge(dfTeste, dfTeste7, on='data_inicio')\n",
    "\n",
    "dfTeste = dfTeste.drop('data_inicio', axis=1)\n",
    "\n",
    "scalerX = MinMaxScaler()\n",
    "dfXTeste_normalized = pd.DataFrame(scalerX.fit_transform(dfTeste), columns=dfTeste.columns)\n",
    "\n",
    "scalerY = MinMaxScaler()\n",
    "dfYTeste_normalized = pd.DataFrame(scalerY.fit_transform(dfTeste5['etanol_blr'].values.reshape(-1, 1)))\n",
    "\n",
    "\n",
    "X = dfXTeste_normalized\n",
    "#X = dfX_normalized\n",
    "Y = dfYTeste_normalized\n",
    "#Y = dfY_normalized\n",
    "\n",
    "yPred = model.predict(X)\n",
    "print('Coeficientes:', model.coef_)\n",
    "print('Intercept:', model.intercept_)\n",
    "print('R²:', model.score(X, Y))\n",
    "\n",
    "yPred = scalerY.inverse_transform(yPred)\n",
    "\n",
    "saidaEsperada = dfTeste5['etanol_blr']\n",
    "#saidaEsperada = df5['etanol_blr']\n",
    "saidaObtida = yPred"
   ]
  },
  {
   "cell_type": "code",
   "execution_count": 41,
   "metadata": {},
   "outputs": [
    {
     "name": "stdout",
     "output_type": "stream",
     "text": [
      "Mínimo: 0.01699921343168187\n",
      "Máximo: 0.40632574553982836\n",
      "Média: 0.2059969835275922\n",
      "Mediana: 0.20206632923803758\n",
      "Desvio Padrão: 0.11972903702379978\n",
      "Variância: 0.01433504230664642\n",
      "Coeficiente de Variação: 58.121742839871594\n",
      "Erro médio quadrático (MSE): 0.056769799529113506\n"
     ]
    }
   ],
   "source": [
    "from sklearn.metrics import mean_squared_error\n",
    "import numpy as np\n",
    "\n",
    "mse = mean_squared_error(saidaEsperada, saidaObtida)\n",
    "\n",
    "difs = []\n",
    "for i in range(len(saidaObtida)):\n",
    "    difs.append(saidaEsperada[i] - saidaObtida[i])\n",
    "\n",
    "media = np.mean(difs)\n",
    "mediana = np.median(difs)\n",
    "minimo = np.min(difs)\n",
    "maximo = np.max(difs)\n",
    "desvio_padrao = np.std(difs)\n",
    "variancia = np.mean([(x - media) ** 2 for x in difs])\n",
    "coeficiente_variacao = (desvio_padrao / media) * 100\n",
    "\n",
    "print(\"Mínimo:\", minimo)\n",
    "print(\"Máximo:\", maximo)\n",
    "print(\"Média:\", media)\n",
    "print(\"Mediana:\", mediana)\n",
    "print(\"Desvio Padrão:\", desvio_padrao)\n",
    "print(\"Variância:\", variancia)\n",
    "print(\"Coeficiente de Variação:\", coeficiente_variacao)\n",
    "print(\"Erro médio quadrático (MSE):\", mse)"
   ]
  },
  {
   "cell_type": "code",
   "execution_count": 42,
   "metadata": {},
   "outputs": [
    {
     "data": {
      "image/png": "[encoded data removed]",
      "text/plain": [
       "<Figure size 640x480 with 1 Axes>"
      ]
     },
     "metadata": {},
     "output_type": "display_data"
    }
   ],
   "source": [
    "\n",
    "import matplotlib.pyplot as plt\n",
    "\n",
    "indices = range(len(saidaEsperada))\n",
    "\n",
    "arrReal = np.array(saidaEsperada)\n",
    "arrPredicao = np.array(saidaObtida)\n",
    "\n",
    "plt.plot(indices, arrReal, 'b-', label='Valores Reais')\n",
    "\n",
    "plt.plot(indices, arrPredicao, 'r-', label='Predições')\n",
    "\n",
    "plt.xlabel('Índice')\n",
    "plt.ylabel('Valor')\n",
    "plt.legend()\n",
    "\n",
    "plt.show()"
   ]
  },
  {
   "attachments": {},
   "cell_type": "markdown",
   "metadata": {},
   "source": [
    "5. Resultados:\n"
   ]
  },
  {
   "attachments": {},
   "cell_type": "markdown",
   "metadata": {},
   "source": [
    "O modelo inesperadamente obteve resultado melhor na base de testes do que na própria base de treinamento o que sugere que o modelo é simples demais para a natureza do problema."
   ]
  },
  {
   "attachments": {},
   "cell_type": "markdown",
   "metadata": {},
   "source": [
    "Para a regressão linear foram utilizados os valores padrões da biblioteca."
   ]
  },
  {
   "attachments": {},
   "cell_type": "markdown",
   "metadata": {},
   "source": [
    "Para os dados de treinamento obtivemos os seguintes resultados:\n",
    "\n",
    "Mínimo: -1.0767968825672263\n",
    "\n",
    "Máximo: 1.4985003393861764\n",
    "\n",
    "Média: -0.2677770318021204\n",
    "\n",
    "Mediana: -0.5505178070887\n",
    "\n",
    "Desvio Padrão: 0.6664820975208445\n",
    "\n",
    "Variância: 0.44419838631578445\n",
    "\n",
    "Coeficiente de Variação: -248.89442273501476\n",
    "\n",
    "Erro médio quadrático (MSE): 0.5159029250765382\n",
    "\n",
    "Nota-se que os valores estão muito insatisfatórios visto que se está tentando prever o preço de uma comoditie que guiará uma decisão estratégica não podemos ter um desvio padrão de 0.66 centavos de erro isto é um valor muito alto para se errar."
   ]
  },
  {
   "attachments": {},
   "cell_type": "markdown",
   "metadata": {},
   "source": [
    "Já para os dados de teste obtivemos os seguintes resultados:\n",
    "\n",
    "Mínimo: 0.01699921343168187\n",
    "\n",
    "Máximo: 0.40632574553982836\n",
    "\n",
    "Média: 0.2059969835275922\n",
    "\n",
    "Mediana: 0.20206632923803758\n",
    "\n",
    "Desvio Padrão: 0.11972903702379978\n",
    "\n",
    "Variância: 0.01433504230664642\n",
    "\n",
    "Coeficiente de Variação: 58.121742839871594\n",
    "\n",
    "Erro médio quadrático (MSE): 0.056769799529113506\n",
    "\n",
    "Com os dados de teste temos menos variação, porém mesmo que o DP e o MSE sejam relativamente baixos, temos que o modelo pode errar por um valor muito grande como a diferença máxima obtida de 0.40 centavos. Isto acaba tornando inviável também o seu uso já que poderia se ganhar ou perder muito dinheiro."
   ]
  },
  {
   "attachments": {},
   "cell_type": "markdown",
   "metadata": {},
   "source": [
    "6. Discussões"
   ]
  },
  {
   "attachments": {},
   "cell_type": "markdown",
   "metadata": {},
   "source": [
    "Quando os resultados são comparados com o autor original da base de dados, o modelo tem um erro 'razoável', baixo DP para a base de testes porém com alguns valores de predição com uma grande diferença do original."
   ]
  },
  {
   "attachments": {},
   "cell_type": "markdown",
   "metadata": {},
   "source": [
    "7. Conclusões e Trabalhos Futuros"
   ]
  },
  {
   "attachments": {},
   "cell_type": "markdown",
   "metadata": {},
   "source": [
    "Assim como o autor da base de dados, também concluimos que apesar do modelo apresentar erros que aparentam ser pequenos o seu uso é inviável, visto que o modelo pode errar por uma grande diferença também o que acarretaria em prejuizos igualmente grandes.\n",
    "\n",
    "Como trabalho futuro é possível de tentar utilizar outras formas de normalização para observar se os resultados obtidos se tornam mais satisfatórios, pode também aumentar o tamanho da base a ser considerada, ou tentar utilizar outra maneira de aglutinação dos valores que possuem observações diárias visto que a média é uma medida muito simples."
   ]
  }
 ],
 "metadata": {
  "kernelspec": {
   "display_name": "Python 3",
   "language": "python",
   "name": "python3"
  },
  "language_info": {
   "codemirror_mode": {
    "name": "ipython",
    "version": 3
   },
   "file_extension": ".py",
   "mimetype": "text/x-python",
   "name": "python",
   "nbconvert_exporter": "python",
   "pygments_lexer": "ipython3",
   "version": "3.8.10"
  },
  "orig_nbformat": 4
 },
 "nbformat": 4,
 "nbformat_minor": 2
}
