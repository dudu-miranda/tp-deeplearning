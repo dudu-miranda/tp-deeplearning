{
 "cells": [
  {
   "attachments": {},
   "cell_type": "markdown",
   "metadata": {},
   "source": [
    "1. Formalização do Problema:"
   ]
  },
  {
   "attachments": {},
   "cell_type": "markdown",
   "metadata": {},
   "source": [
    "Contextualização: O problema que será abordado é a tentativa de predição dos preços do etanol hidratado baseado na cotação de outras comodities como gasolina, petróleo, câmbio, açúcar, etc."
   ]
  },
  {
   "attachments": {},
   "cell_type": "markdown",
   "metadata": {},
   "source": [
    "Motivação: O Etanol é um produto muito importante na matriz energética do Brasil que é o segundo país na produção global de etanol. Além deste fato é também o principal produto que a empresa que eu trabalho atualmente comercializa, então meu trabalho pode agregar trazendo informações para que possa ser alcançado melhores resultados."
   ]
  },
  {
   "attachments": {},
   "cell_type": "markdown",
   "metadata": {},
   "source": [
    "Importância: Conseguir entender a variação de seu preço mediante a variação dessas outras commodities é de grande importância pois apoia a tomada de decisão de agentes desse setor."
   ]
  },
  {
   "attachments": {},
   "cell_type": "markdown",
   "metadata": {},
   "source": [
    "2. Objetivo"
   ]
  },
  {
   "attachments": {},
   "cell_type": "markdown",
   "metadata": {},
   "source": [
    "O objetivo principal é utilizar de vários métodos de predição para identificar qual melhor se encaixa na predição dos preços de etanol."
   ]
  },
  {
   "attachments": {},
   "cell_type": "markdown",
   "metadata": {},
   "source": [
    "3. Revisão Bibliográfica:"
   ]
  },
  {
   "attachments": {},
   "cell_type": "markdown",
   "metadata": {},
   "source": [
    "Referências Cientificas:\n",
    "\n",
    "https://periodicos.unipampa.edu.br/index.php/Agropampa/article/view/103426\n",
    "https://pantheon.ufrj.br/handle/11422/1867\n",
    "http://repositoriosenaiba.fieb.org.br/handle/fieb/1197"
   ]
  },
  {
   "attachments": {},
   "cell_type": "markdown",
   "metadata": {},
   "source": [
    "Projetos semelhantes:\n",
    "\n",
    "https://paperswithcode.com/paper/stock-price-prediction-via-discovering-multi#code\n",
    "https://paperswithcode.com/paper/a-robust-predictive-model-for-stock-price\n",
    "https://paperswithcode.com/paper/stock-price-prediction-using-machine-learning"
   ]
  },
  {
   "attachments": {},
   "cell_type": "markdown",
   "metadata": {},
   "source": [
    "4. Base de Dados: https://github.com/jcrodrigues87/mba-dsa-usp-esalq/tree/main/dados_teste"
   ]
  },
  {
   "attachments": {},
   "cell_type": "markdown",
   "metadata": {},
   "source": [
    "Esta base de dados será utilizada pois o projeto é replicável e é possível de se obter uma comparação dos resultados obtidos entres os diferentes modelos e os resultados deste trabalho, visto que tanto os projetos semelhantes como as referências cientificas não disponibilizaram a base de dados para que possa ser feita uma análise comparativa."
   ]
  }
 ],
 "metadata": {
  "kernelspec": {
   "display_name": "Python 3",
   "language": "python",
   "name": "python3"
  },
  "language_info": {
   "name": "python",
   "version": "3.8.10"
  },
  "orig_nbformat": 4
 },
 "nbformat": 4,
 "nbformat_minor": 2
}
