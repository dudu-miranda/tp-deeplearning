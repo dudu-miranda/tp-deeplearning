{
 "cells": [
  {
   "attachments": {},
   "cell_type": "markdown",
   "metadata": {},
   "source": [
    "1. Discussão e objetivos:"
   ]
  },
  {
   "attachments": {},
   "cell_type": "markdown",
   "metadata": {},
   "source": [
    "Formalização do Problema: O problema que será abordado é a tentativa de predição dos preços do etanol hidratado baseado na cotação de outras comodities como gasolina, petróleo, câmbio, açúcar, etc."
   ]
  },
  {
   "attachments": {},
   "cell_type": "markdown",
   "metadata": {},
   "source": [
    "Objetivos: Ao finalizar o trabalho pretende-se ter um programa que seja capaz de predizer o preço do etanol baseando-se no preço futuro de outras comodities."
   ]
  },
  {
   "attachments": {},
   "cell_type": "markdown",
   "metadata": {},
   "source": [
    "2. Análise Exploratória dos Dados"
   ]
  },
  {
   "attachments": {},
   "cell_type": "markdown",
   "metadata": {},
   "source": [
    "Base de Dados: A base de dados teve que ser adaptada devido a política de controle de preços que a Petrobras praticava até Outubro de 2016, data que foi determinada que a precificação anunciou adotaria uma política de preços que acompanharia as cotações do petróleo no mercado internacional.\n",
    "\n",
    "Nela também foi excluido três arquivos de dados que não possuiam a correspondência do arquivo para a base de testes.\n",
    "Em alguns arquivos que possuiam mais informações como preço de abertura, fechamento, variância entre outros todas essas informações foram retiradas restando somente o preço final do dia."
   ]
  },
  {
   "attachments": {},
   "cell_type": "markdown",
   "metadata": {},
   "source": [
    "Dados Faltantes: Não há dados faltantes na base de dados."
   ]
  },
  {
   "cell_type": "code",
   "execution_count": null,
   "metadata": {},
   "outputs": [],
   "source": [
    "import pandas as pd\n",
    "\n",
    "# Estatisticas e features\n",
    "directory = 'dados/'\n",
    "df1 = pd.read_csv(directory + 'acucar_diario_ny_usd.csv')\n",
    "df2 = pd.read_csv(directory + 'acucar_diario_rp_blr.csv')\n",
    "df3 = pd.read_csv(directory + 'brent_diario_usd.csv')\n",
    "df4 = pd.read_csv(directory + 'dolar_diario_blr.csv')\n",
    "df5 = pd.read_csv(directory + 'etanol_semanal_anp_blr.csv')\n",
    "df6 = pd.read_csv(directory + 'gasolina_semanal_anp_blr.csv')\n",
    "df7 = pd.read_csv(directory + 'rbob_diario_usd.csv')\n",
    "\n",
    "df = pd.concat([df1, df2, df3, df4, df5, df6, df7])\n",
    "df.describe()"
   ]
  },
  {
   "cell_type": "code",
   "execution_count": null,
   "metadata": {},
   "outputs": [],
   "source": [
    "# Matriz de correlação\n",
    "numeric_cols = df.select_dtypes(include='number').columns\n",
    "df_corr = df[numeric_cols].corr()\n",
    "\n",
    "print(df_corr)"
   ]
  },
  {
   "attachments": {},
   "cell_type": "markdown",
   "metadata": {},
   "source": [
    "3. Decisões:"
   ]
  },
  {
   "attachments": {},
   "cell_type": "markdown",
   "metadata": {},
   "source": [
    "Referências Cientificas:\n"
   ]
  },
  {
   "attachments": {},
   "cell_type": "markdown",
   "metadata": {},
   "source": [
    "4. Metodologia"
   ]
  },
  {
   "attachments": {},
   "cell_type": "markdown",
   "metadata": {},
   "source": [
    "Os métodos que serão utilizados são os de Regressão Linear, RNN e talvez o Prophet."
   ]
  },
  {
   "attachments": {},
   "cell_type": "markdown",
   "metadata": {},
   "source": [
    "Regressão linear: é um método estatístico que busca estabelecer uma relação linear entre a variável dependente (a variável que você deseja prever) e uma ou mais variáveis independentes (as variáveis que você usa para prever a variável dependente).\n",
    "\n",
    "Rede Neural Recorrente (RNN): Uma RNN é um modelo de aprendizado profundo adequado para séries temporais devido à sua capacidade de lembrar estados anteriores.\n",
    "\n",
    "Prophet: É uma biblioteca de modelagem de séries temporais desenvolvida pelo Facebook que é eficaz para previsões de curto e médio prazo."
   ]
  },
  {
   "attachments": {},
   "cell_type": "markdown",
   "metadata": {},
   "source": [
    "Por hora o método a ser utilizado será o de Erro médio quadrático (MSE), já que queremos penalizar os erros que forem grandes."
   ]
  }
 ],
 "metadata": {
  "kernelspec": {
   "display_name": "Python 3",
   "language": "python",
   "name": "python3"
  },
  "language_info": {
   "codemirror_mode": {
    "name": "ipython",
    "version": 3
   },
   "file_extension": ".py",
   "mimetype": "text/x-python",
   "name": "python",
   "nbconvert_exporter": "python",
   "pygments_lexer": "ipython3",
   "version": "3.8.10"
  },
  "orig_nbformat": 4
 },
 "nbformat": 4,
 "nbformat_minor": 2
}
