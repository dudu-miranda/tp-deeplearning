{
 "cells": [
  {
   "attachments": {},
   "cell_type": "markdown",
   "metadata": {},
   "source": [
    "1. Discussão e objetivos:"
   ]
  },
  {
   "attachments": {},
   "cell_type": "markdown",
   "metadata": {},
   "source": [
    "Formalização do Problema: O problema que será abordado é a tentativa de predição dos preços do etanol hidratado baseado na cotação de outras comodities como gasolina, petróleo, câmbio, açúcar, etc."
   ]
  },
  {
   "attachments": {},
   "cell_type": "markdown",
   "metadata": {},
   "source": [
    "Objetivos: Ao finalizar o trabalho pretende-se ter um programa que seja capaz de predizer o preço do etanol baseando-se no preço futuro de outras comodities."
   ]
  },
  {
   "attachments": {},
   "cell_type": "markdown",
   "metadata": {},
   "source": [
    "2. Análise Exploratória dos Dados"
   ]
  },
  {
   "attachments": {},
   "cell_type": "markdown",
   "metadata": {},
   "source": [
    "Base de Dados: A base de dados teve que ser adaptada devido a política de controle de preços que a Petrobras praticava até Outubro de 2016, data que foi determinada que a precificação anunciou adotaria uma política de preços que acompanharia as cotações do petróleo no mercado internacional.\n",
    "\n",
    "Nela também foi excluido três arquivos de dados que não possuiam a correspondência do arquivo para a base de testes.\n",
    "Em alguns arquivos que possuiam mais informações como preço de abertura, fechamento, variância entre outros todas essas informações foram retiradas restando somente o preço final do dia."
   ]
  },
  {
   "attachments": {},
   "cell_type": "markdown",
   "metadata": {},
   "source": [
    "Dados Faltantes: Não há dados faltantes na base de dados."
   ]
  },
  {
   "cell_type": "code",
   "execution_count": 33,
   "metadata": {},
   "outputs": [
    {
     "data": {
      "text/html": [
       "<div>\n",
       "<style scoped>\n",
       "    .dataframe tbody tr th:only-of-type {\n",
       "        vertical-align: middle;\n",
       "    }\n",
       "\n",
       "    .dataframe tbody tr th {\n",
       "        vertical-align: top;\n",
       "    }\n",
       "\n",
       "    .dataframe thead th {\n",
       "        text-align: right;\n",
       "    }\n",
       "</style>\n",
       "<table border=\"1\" class=\"dataframe\">\n",
       "  <thead>\n",
       "    <tr style=\"text-align: right;\">\n",
       "      <th></th>\n",
       "      <th>acucar_usd</th>\n",
       "      <th>acucar_blr</th>\n",
       "      <th>brent_usd</th>\n",
       "      <th>dolar_blr</th>\n",
       "      <th>etanol_blr</th>\n",
       "      <th>gasolina_blr</th>\n",
       "      <th>rbob_usd</th>\n",
       "    </tr>\n",
       "  </thead>\n",
       "  <tbody>\n",
       "    <tr>\n",
       "      <th>count</th>\n",
       "      <td>283.000000</td>\n",
       "      <td>283.000000</td>\n",
       "      <td>283.000000</td>\n",
       "      <td>283.000000</td>\n",
       "      <td>283.000000</td>\n",
       "      <td>283.000000</td>\n",
       "      <td>283.000000</td>\n",
       "    </tr>\n",
       "    <tr>\n",
       "      <th>mean</th>\n",
       "      <td>14.756072</td>\n",
       "      <td>86.422014</td>\n",
       "      <td>66.116724</td>\n",
       "      <td>4.325477</td>\n",
       "      <td>3.156537</td>\n",
       "      <td>4.543866</td>\n",
       "      <td>1.887834</td>\n",
       "    </tr>\n",
       "    <tr>\n",
       "      <th>std</th>\n",
       "      <td>2.989173</td>\n",
       "      <td>31.159534</td>\n",
       "      <td>18.263841</td>\n",
       "      <td>0.890475</td>\n",
       "      <td>0.841178</td>\n",
       "      <td>0.980676</td>\n",
       "      <td>0.612053</td>\n",
       "    </tr>\n",
       "    <tr>\n",
       "      <th>min</th>\n",
       "      <td>9.842000</td>\n",
       "      <td>50.090000</td>\n",
       "      <td>21.608000</td>\n",
       "      <td>3.082400</td>\n",
       "      <td>2.148000</td>\n",
       "      <td>3.234000</td>\n",
       "      <td>0.510500</td>\n",
       "    </tr>\n",
       "    <tr>\n",
       "      <th>25%</th>\n",
       "      <td>12.393000</td>\n",
       "      <td>62.977000</td>\n",
       "      <td>55.466000</td>\n",
       "      <td>3.615100</td>\n",
       "      <td>2.590500</td>\n",
       "      <td>3.974500</td>\n",
       "      <td>1.566650</td>\n",
       "    </tr>\n",
       "    <tr>\n",
       "      <th>50%</th>\n",
       "      <td>14.084000</td>\n",
       "      <td>74.494000</td>\n",
       "      <td>64.432000</td>\n",
       "      <td>4.081400</td>\n",
       "      <td>2.801000</td>\n",
       "      <td>4.196000</td>\n",
       "      <td>1.769200</td>\n",
       "    </tr>\n",
       "    <tr>\n",
       "      <th>75%</th>\n",
       "      <td>17.510000</td>\n",
       "      <td>109.340000</td>\n",
       "      <td>74.212000</td>\n",
       "      <td>5.239800</td>\n",
       "      <td>3.622500</td>\n",
       "      <td>5.207500</td>\n",
       "      <td>2.111350</td>\n",
       "    </tr>\n",
       "    <tr>\n",
       "      <th>max</th>\n",
       "      <td>20.746000</td>\n",
       "      <td>155.322500</td>\n",
       "      <td>121.748000</td>\n",
       "      <td>5.856200</td>\n",
       "      <td>5.348000</td>\n",
       "      <td>6.992000</td>\n",
       "      <td>4.204200</td>\n",
       "    </tr>\n",
       "  </tbody>\n",
       "</table>\n",
       "</div>"
      ],
      "text/plain": [
       "       acucar_usd  acucar_blr   brent_usd   dolar_blr  etanol_blr   \n",
       "count  283.000000  283.000000  283.000000  283.000000  283.000000  \\\n",
       "mean    14.756072   86.422014   66.116724    4.325477    3.156537   \n",
       "std      2.989173   31.159534   18.263841    0.890475    0.841178   \n",
       "min      9.842000   50.090000   21.608000    3.082400    2.148000   \n",
       "25%     12.393000   62.977000   55.466000    3.615100    2.590500   \n",
       "50%     14.084000   74.494000   64.432000    4.081400    2.801000   \n",
       "75%     17.510000  109.340000   74.212000    5.239800    3.622500   \n",
       "max     20.746000  155.322500  121.748000    5.856200    5.348000   \n",
       "\n",
       "       gasolina_blr    rbob_usd  \n",
       "count    283.000000  283.000000  \n",
       "mean       4.543866    1.887834  \n",
       "std        0.980676    0.612053  \n",
       "min        3.234000    0.510500  \n",
       "25%        3.974500    1.566650  \n",
       "50%        4.196000    1.769200  \n",
       "75%        5.207500    2.111350  \n",
       "max        6.992000    4.204200  "
      ]
     },
     "execution_count": 33,
     "metadata": {},
     "output_type": "execute_result"
    }
   ],
   "source": [
    "import pandas as pd\n",
    "\n",
    "# Estatisticas e features\n",
    "directory = 'dados2/'\n",
    "df1 = pd.read_csv(directory + 'acucar_diario_ny_usd.csv')\n",
    "df2 = pd.read_csv(directory + 'acucar_diario_rp_blr.csv')\n",
    "df3 = pd.read_csv(directory + 'brent_diario_usd.csv')\n",
    "df4 = pd.read_csv(directory + 'dolar_diario_blr.csv')\n",
    "df5 = pd.read_csv(directory + 'etanol_semanal_anp_blr.csv')\n",
    "df6 = pd.read_csv(directory + 'gasolina_semanal_anp_blr.csv')\n",
    "df7 = pd.read_csv(directory + 'rbob_diario_usd.csv')\n",
    "\n",
    "df1 = df1[['data_inicio', 'acucar_usd']]\n",
    "df2 = df2[['data_inicio', 'acucar_blr']]\n",
    "df3 = df3[['data_inicio', 'brent_usd']]\n",
    "df4 = df4[['data_inicio', 'dolar_blr']]\n",
    "df5 = df5[['data_inicio', 'etanol_blr']]\n",
    "df6 = df6[['data_inicio', 'gasolina_blr']]\n",
    "df7 = df7[['data_inicio', 'rbob_usd']]\n",
    "\n",
    "df = pd.merge(df1, df2, on='data_inicio')\n",
    "df = pd.merge(df, df3, on='data_inicio')\n",
    "df = pd.merge(df, df4, on='data_inicio')\n",
    "df = pd.merge(df, df5, on='data_inicio')\n",
    "df = pd.merge(df, df6, on='data_inicio')\n",
    "df = pd.merge(df, df7, on='data_inicio')\n",
    "\n",
    "#df = pd.concat([df1, df2, df3, df4, df5, df6, df7])\n",
    "df.describe()"
   ]
  },
  {
   "cell_type": "code",
   "execution_count": null,
   "metadata": {},
   "outputs": [],
   "source": [
    "import matplotlib.pyplot as plt\n",
    "import numpy as np\n",
    "\n",
    "plt.plot(np.array(df1['data_inicio']), np.array(df1['acucar_usd']))\n",
    "plt.xlabel('Data')\n",
    "plt.ylabel('Valor (USD)')\n",
    "plt.title('Variação do Preço do Açúcar')\n",
    "plt.xticks(rotation=45)  # Rotação dos rótulos do eixo x para melhor legibilidade\n",
    "plt.show()\n",
    "\n",
    "plt.plot(np.array(df2['data_inicio']), np.array(df2['acucar_blr']))\n",
    "plt.xlabel('Data')\n",
    "plt.ylabel('Valor (BRL)')\n",
    "plt.title('Variação do Preço do Açúcar')\n",
    "plt.xticks(rotation=45)  # Rotação dos rótulos do eixo x para melhor legibilidade\n",
    "plt.show()\n",
    "\n",
    "plt.plot(np.array(df3['data_inicio']), np.array(df3['brent_usd']))\n",
    "plt.xlabel('Data')\n",
    "plt.ylabel('Brench USD')\n",
    "plt.title('Variação do Brench')\n",
    "plt.xticks(rotation=45)  # Rotação dos rótulos do eixo x para melhor legibilidade\n",
    "plt.show()\n",
    "\n",
    "plt.plot(np.array(df4['data_inicio']), np.array(df4['dolar_blr']))\n",
    "plt.xlabel('Data')\n",
    "plt.ylabel('Valor Dolar')\n",
    "plt.title('Variação do Preço do Dolar')\n",
    "plt.xticks(rotation=45)  # Rotação dos rótulos do eixo x para melhor legibilidade\n",
    "plt.show()\n",
    "\n",
    "plt.plot(np.array(df5['data_inicio']), np.array(df5['etanol_blr']))\n",
    "plt.xlabel('Data')\n",
    "plt.ylabel('Valor Etanol')\n",
    "plt.title('Variação do Preço do Etanol')\n",
    "plt.xticks(rotation=45)  # Rotação dos rótulos do eixo x para melhor legibilidade\n",
    "plt.show()\n",
    "\n",
    "plt.plot(np.array(df6['data_inicio']), np.array(df6['gasolina_blr']))\n",
    "plt.xlabel('Data')\n",
    "plt.ylabel('Valor Gasolina')\n",
    "plt.title('Variação do Preço da Gasolina')\n",
    "plt.xticks(rotation=45)  # Rotação dos rótulos do eixo x para melhor legibilidade\n",
    "plt.show()\n",
    "\n",
    "plt.plot(np.array(df7['data_inicio']), np.array(df7['rbob_usd']))\n",
    "plt.xlabel('Data')\n",
    "plt.ylabel('Valor Rbob')\n",
    "plt.title('Variação do Preço do Rbob')\n",
    "plt.xticks(rotation=45)  # Rotação dos rótulos do eixo x para melhor legibilidade\n",
    "plt.show()"
   ]
  },
  {
   "cell_type": "code",
   "execution_count": null,
   "metadata": {},
   "outputs": [],
   "source": [
    "# Matriz de correlação\n",
    "numeric_cols = df.select_dtypes(include='number').columns\n",
    "df_corr = df[numeric_cols].corr()\n",
    "\n",
    "print(df_corr)"
   ]
  },
  {
   "attachments": {},
   "cell_type": "markdown",
   "metadata": {},
   "source": [
    "3. Decisões:"
   ]
  },
  {
   "attachments": {},
   "cell_type": "markdown",
   "metadata": {},
   "source": [
    "A primeira decisão foi a de cortar a base de dados para não considerar preços antes de 2017 já que antes disso os preços dos combustíveis no Brasil não eram precificados de acordo com o mercado e sim de acordo com a empresa Petrobras."
   ]
  },
  {
   "attachments": {},
   "cell_type": "markdown",
   "metadata": {},
   "source": [
    "A segunda decisão foi a de utilizar os métodos de Regressão Linear, RNN e Prophet.\n",
    "Pois na pesquisa bibliográfica já havia utilizado os modelos ARIMA, SARIMA, ARFIMA e Suavização Exponencial."
   ]
  },
  {
   "attachments": {},
   "cell_type": "markdown",
   "metadata": {},
   "source": [
    "O corte era necessário de ser realizado visto a diferença da natureza da precificação.\n",
    "Mas utilizando métodos diferentes para resolver o mesmo problema espera-se obter novos resultados, sejam para dizer que determinado método não é apropriado para esse problema em específico ou que determinado método tem potencial para ser utilizado."
   ]
  },
  {
   "attachments": {},
   "cell_type": "markdown",
   "metadata": {},
   "source": [
    "4. Metodologia"
   ]
  },
  {
   "attachments": {},
   "cell_type": "markdown",
   "metadata": {},
   "source": [
    "Os métodos que serão utilizados são os de Regressão Linear, RNN e talvez o Prophet."
   ]
  },
  {
   "attachments": {},
   "cell_type": "markdown",
   "metadata": {},
   "source": [
    "Regressão linear: é um método estatístico que busca estabelecer uma relação linear entre a variável dependente (a variável que você deseja prever) e uma ou mais variáveis independentes (as variáveis que você usa para prever a variável dependente).\n",
    "\n",
    "Rede Neural Recorrente (RNN): Uma RNN é um modelo de aprendizado profundo adequado para séries temporais devido à sua capacidade de lembrar estados anteriores.\n",
    "\n",
    "Prophet: É uma biblioteca de modelagem de séries temporais desenvolvida pelo Facebook que é eficaz para previsões de curto e médio prazo."
   ]
  },
  {
   "attachments": {},
   "cell_type": "markdown",
   "metadata": {},
   "source": [
    "Por hora o método a ser utilizado será o de Erro médio quadrático (MSE), já que queremos penalizar os erros que forem grandes."
   ]
  }
 ],
 "metadata": {
  "kernelspec": {
   "display_name": "Python 3",
   "language": "python",
   "name": "python3"
  },
  "language_info": {
   "codemirror_mode": {
    "name": "ipython",
    "version": 3
   },
   "file_extension": ".py",
   "mimetype": "text/x-python",
   "name": "python",
   "nbconvert_exporter": "python",
   "pygments_lexer": "ipython3",
   "version": "3.8.10"
  },
  "orig_nbformat": 4
 },
 "nbformat": 4,
 "nbformat_minor": 2
}
